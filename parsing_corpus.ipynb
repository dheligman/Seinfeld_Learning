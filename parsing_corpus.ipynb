{
 "cells": [
  {
   "cell_type": "markdown",
   "metadata": {},
   "source": [
    "# Libraries"
   ]
  },
  {
   "cell_type": "code",
   "execution_count": 12,
   "metadata": {},
   "outputs": [],
   "source": [
    "#Importing necessary libraries\n",
    "import pickle\n",
    "import pandas as pd"
   ]
  },
  {
   "cell_type": "markdown",
   "metadata": {},
   "source": [
    "# Load Corpus"
   ]
  },
  {
   "cell_type": "code",
   "execution_count": 13,
   "metadata": {
    "scrolled": true
   },
   "outputs": [],
   "source": [
    "#Opening the corpus text and splitting at every \\n\n",
    "file = open(\"corpus.txt\",'r')\n",
    "corpus = file.read()\n",
    "raw_script = corpus.split('\\n')"
   ]
  },
  {
   "cell_type": "markdown",
   "metadata": {},
   "source": [
    "# Parsing the Corpus"
   ]
  },
  {
   "cell_type": "code",
   "execution_count": 14,
   "metadata": {},
   "outputs": [],
   "source": [
    "#Defining all the necessary lists\n",
    "speaker = []\n",
    "line = []\n",
    "staging = []\n",
    "line_num = []\n",
    "staging_num = []\n",
    "\n",
    "#Performing a for loop that evaluates every element in the raw_script list\n",
    "for i in range(len(raw_script)):\n",
    "    \n",
    "    #splitting the element only at the first ':'\n",
    "    x = raw_script[i].split(':',1)\n",
    "    \n",
    "    #Throwing out any empty elements\n",
    "    if x[0] == '':\n",
    "        continue\n",
    "        \n",
    "    #Splitting the strings in each element by word\n",
    "    first_wrd = x[0].split()[0]\n",
    "    \n",
    "    #Sorting any element of raw_script if its staging, i.e. if it begins with '('\n",
    "    if not first_wrd[0].isalpha():\n",
    "        staging.append(raw_script[i])\n",
    "        staging_num.append(i)\n",
    "        continue\n",
    "    \n",
    "    #Same idea as the bit above, but if it starts with INT. (elements that indicate a change in scene)\n",
    "    if first_wrd == 'INT.':\n",
    "        staging.append(raw_script[i])\n",
    "        staging_num.append(i)\n",
    "        continue\n",
    "    \n",
    "    #Some elements of raw_script are lines, but do not divide the speaker and the line by a ':'\n",
    "    if len(x) < 2:\n",
    "        first_wrd2 = x[0].split(' ',1)\n",
    "    \n",
    "        #Some elements are less than 2 in length and get past the above if statements\n",
    "        if len(first_wrd2) < 2:\n",
    "            staging.append(first_wrd2)\n",
    "            staging_num.append(i)\n",
    "            \n",
    "        #If the list is greater than to after the most recent split,\n",
    "        #then it is divided up accordingly\n",
    "        else:\n",
    "            speaker.append(first_wrd2[0])\n",
    "            line.append(first_wrd2[1])\n",
    "            line_num.append(i)\n",
    "        continue\n",
    "    \n",
    "    #appending lines that don't fit the criteria of the if statements above\n",
    "    speaker.append(x[0])\n",
    "    line.append(x[1])\n",
    "    line_num.append(i)"
   ]
  },
  {
   "cell_type": "markdown",
   "metadata": {},
   "source": [
    "# Creating the dataframes"
   ]
  },
  {
   "cell_type": "code",
   "execution_count": 15,
   "metadata": {},
   "outputs": [],
   "source": [
    "#This stuff is pretty straight forward\n",
    "lines_df = pd.DataFrame(columns=['Character','Line','Line #'])\n",
    "lines_df['Character'] = speaker\n",
    "lines_df['Line'] = line\n",
    "lines_df['Line #'] = line_num\n",
    "lines_df.tail(10)\n",
    "staging_df = pd.DataFrame(columns=['Staging','Staging #'])\n",
    "staging_df['Staging'] = staging\n",
    "staging_df['Staging #'] = staging_num"
   ]
  },
  {
   "cell_type": "code",
   "execution_count": 16,
   "metadata": {},
   "outputs": [],
   "source": [
    "#Saving the parsed script\n",
    "lines_df.to_pickle('parsed_script/Lines.csv')\n",
    "staging_df.to_pickle('parsed_script/Staging.csv')"
   ]
  }
 ],
 "metadata": {
  "kernelspec": {
   "display_name": "Python 3",
   "language": "python",
   "name": "python3"
  },
  "language_info": {
   "codemirror_mode": {
    "name": "ipython",
    "version": 3
   },
   "file_extension": ".py",
   "mimetype": "text/x-python",
   "name": "python",
   "nbconvert_exporter": "python",
   "pygments_lexer": "ipython3",
   "version": "3.7.3"
  }
 },
 "nbformat": 4,
 "nbformat_minor": 2
}
