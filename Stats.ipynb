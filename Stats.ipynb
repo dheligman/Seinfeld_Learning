{
 "cells": [
  {
   "cell_type": "code",
   "execution_count": 3,
   "metadata": {
    "scrolled": true
   },
   "outputs": [],
   "source": [
    "import pickle\n",
    "import pandas as pd\n",
    "import numpy as np\n",
    "import matplotlib.pyplot as plt\n",
    "import nltk"
   ]
  },
  {
   "cell_type": "code",
   "execution_count": 9,
   "metadata": {},
   "outputs": [],
   "source": [
    "lines_df = pd.read_pickle(\"Lines.csv\")\n",
    "staging_df = pd.read_pickle(\"Staging.csv\")"
   ]
  },
  {
   "cell_type": "code",
   "execution_count": 10,
   "metadata": {
    "scrolled": false
   },
   "outputs": [],
   "source": [
    "def line_stats(char):\n",
    "    stat = 0\n",
    "    for i in range(len(lines_df)):\n",
    "        char_lst = lines_df.iloc[i][0].split()\n",
    "        if char in char_lst:\n",
    "            stat += 1\n",
    "    return stat  "
   ]
  },
  {
   "cell_type": "code",
   "execution_count": 11,
   "metadata": {},
   "outputs": [],
   "source": [
    "Char_line_count = [line_stats(\"JERRY\"),line_stats(\"ELAINE\"),line_stats(\"GEORGE\"),line_stats(\"KRAMER\")]"
   ]
  },
  {
   "cell_type": "code",
   "execution_count": 12,
   "metadata": {},
   "outputs": [
    {
     "data": {
      "text/plain": [
       "[14976, 8114, 9828, 6782]"
      ]
     },
     "execution_count": 12,
     "metadata": {},
     "output_type": "execute_result"
    }
   ],
   "source": [
    "Char_line_count"
   ]
  },
  {
   "cell_type": "code",
   "execution_count": 13,
   "metadata": {},
   "outputs": [
    {
     "data": {
      "image/png": "[encoded data removed]",
      "text/plain": [
       "<Figure size 432x288 with 1 Axes>"
      ]
     },
     "metadata": {
      "needs_background": "light"
     },
     "output_type": "display_data"
    }
   ],
   "source": [
    "pos = np.arange(4)\n",
    "char_list = [\"JERRY\",\"ELAINE\",\"GEORGE\",\"KRAMER\"]\n",
    "plt.bar(pos,Char_line_count,align='center')\n",
    "plt.xticks(pos,char_list)\n",
    "plt.ylabel(\"Line Count\")\n",
    "plt.title(\"Character Line Stats\")\n",
    "plt.show()"
   ]
  }
 ],
 "metadata": {
  "kernelspec": {
   "display_name": "Python 3",
   "language": "python",
   "name": "python3"
  },
  "language_info": {
   "codemirror_mode": {
    "name": "ipython",
    "version": 3
   },
   "file_extension": ".py",
   "mimetype": "text/x-python",
   "name": "python",
   "nbconvert_exporter": "python",
   "pygments_lexer": "ipython3",
   "version": "3.7.3"
  }
 },
 "nbformat": 4,
 "nbformat_minor": 2
}
